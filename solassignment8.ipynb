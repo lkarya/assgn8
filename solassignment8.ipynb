{
 "cells": [
  {
   "cell_type": "code",
   "execution_count": null,
   "id": "0b61636c",
   "metadata": {},
   "outputs": [],
   "source": [
    "# Is the Python Standard Library included with PyInputPlus?\n",
    "PyInputPlus is a Python module used for taking inputs with additional validation features. \n",
    "PyInputPlus will keep asking the user for text until they enter valid input.\n",
    "\n",
    "# Why is PyInputPlus commonly imported with import pyinputplus as pypi?\n",
    "PyInputPlus is a Python 3 and 2 module to provide input()- and raw_input()-like functions with additional validation features. \n",
    "\n",
    "# How do you distinguish between inputInt() and inputFloat()?\n",
    "inputInt() : Accepts an integer value. This also takes additional parameters 'min', 'max', 'greaterThan' and 'lessThan' for bounds. \n",
    "Returns an int. inputFloat() : Accepts a floating-point numeric value.\n",
    "    \n",
    "# Using PyInputPlus, how do you ensure that the user enters a whole number between 0 and 99?\n",
    "By using pyip.inputint(min=0, max=99)\n",
    "\n",
    "# If blank input is entered three times, what does inputStr(limit=3, default='hello') do?\n",
    "SyntaxError: invalid syntax"
   ]
  }
 ],
 "metadata": {
  "kernelspec": {
   "display_name": "Python 3 (ipykernel)",
   "language": "python",
   "name": "python3"
  },
  "language_info": {
   "codemirror_mode": {
    "name": "ipython",
    "version": 3
   },
   "file_extension": ".py",
   "mimetype": "text/x-python",
   "name": "python",
   "nbconvert_exporter": "python",
   "pygments_lexer": "ipython3",
   "version": "3.9.7"
  }
 },
 "nbformat": 4,
 "nbformat_minor": 5
}
